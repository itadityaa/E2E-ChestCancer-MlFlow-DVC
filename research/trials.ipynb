{
 "cells": [
  {
   "cell_type": "code",
   "execution_count": 1,
   "metadata": {},
   "outputs": [],
   "source": [
    "import os\n",
    "from dotenv import load_dotenv\n",
    "from dataclasses import dataclass\n",
    "from pathlib import Path\n",
    "import json"
   ]
  },
  {
   "cell_type": "code",
   "execution_count": 2,
   "metadata": {},
   "outputs": [
    {
     "data": {
      "text/plain": [
       "'d:\\\\Projects\\\\E2E-ChestCancer-MlFlow-DVC\\\\research'"
      ]
     },
     "execution_count": 2,
     "metadata": {},
     "output_type": "execute_result"
    }
   ],
   "source": [
    "os.getcwd()"
   ]
  },
  {
   "cell_type": "code",
   "execution_count": 3,
   "metadata": {},
   "outputs": [],
   "source": [
    "os.chdir('../')"
   ]
  },
  {
   "cell_type": "markdown",
   "metadata": {},
   "source": [
    "## DATA INGESTION"
   ]
  },
  {
   "cell_type": "code",
   "execution_count": 4,
   "metadata": {},
   "outputs": [],
   "source": [
    "load_dotenv()\n",
    "\n",
    "kaggle_username = os.getenv('KAGGLE_USERNAME')\n",
    "kaggle_key = os.getenv('KAGGLE_KEY')\n",
    "\n",
    "from kaggle.api.kaggle_api_extended import KaggleApi\n",
    "\n",
    "# dataset_url = os.getenv('DATASET_URL')\n",
    "# dataset_path = os.getenv('DATASET_PATH')\n",
    "\n",
    "# api = KaggleApi()\n",
    "# api.authenticate()\n",
    "\n",
    "# api.dataset_download_files(dataset_url, path=dataset_path, unzip=True)"
   ]
  },
  {
   "cell_type": "code",
   "execution_count": 5,
   "metadata": {},
   "outputs": [],
   "source": [
    "@dataclass(frozen=True)\n",
    "class DataIngestionConfig:\n",
    "    root_dir: Path\n",
    "    source_URL: str\n",
    "    unzip_dir: Path"
   ]
  },
  {
   "cell_type": "code",
   "execution_count": 6,
   "metadata": {},
   "outputs": [],
   "source": [
    "from e2e_cnnClassifier_ChestCancer.constants import *\n",
    "from e2e_cnnClassifier_ChestCancer.utils.utils import read_yaml, create_directories"
   ]
  },
  {
   "cell_type": "code",
   "execution_count": 7,
   "metadata": {},
   "outputs": [],
   "source": [
    "class ConfigurationManager:\n",
    "    def __init__(\n",
    "        self,\n",
    "        config_filepath: str = CONFIG_FILE_PATH,\n",
    "        params_filepath: str = PARAMS_FILE_PATH\n",
    "    ):\n",
    "        \"\"\"\n",
    "        Initializes the ConfigurationManager by loading configuration and parameter files.\n",
    "\n",
    "        Args:\n",
    "            config_filepath (str): Path to the config YAML file.\n",
    "            params_filepath (str): Path to the params YAML file.\n",
    "        \"\"\"\n",
    "        self.config = self._read_yaml(config_filepath)\n",
    "        self.params = self._read_yaml(params_filepath)\n",
    "\n",
    "        # self._print_config_and_params()\n",
    "\n",
    "        self._create_directories([self.config.artificats_root])\n",
    "\n",
    "    def _read_yaml(self, filepath: str):\n",
    "        \"\"\"Reads a YAML file and returns its contents.\"\"\"\n",
    "        return read_yaml(filepath)\n",
    "\n",
    "    def _create_directories(self, dirs: list):\n",
    "        \"\"\"Creates directories if they don't exist.\"\"\"\n",
    "        create_directories(dirs)\n",
    "\n",
    "    def _print_config_and_params(self):\n",
    "        \"\"\"Prints the contents of the config and params files.\"\"\"\n",
    "        print(\"Configuration Contents:\")\n",
    "        print(self.config)\n",
    "\n",
    "        print(\"\\nParameters Contents:\")\n",
    "        print(self.params)\n",
    "\n",
    "    def get_data_ingestion_config(self) -> DataIngestionConfig:\n",
    "        \"\"\"\n",
    "        Prepares and returns the DataIngestionConfig object with necessary configurations.\n",
    "\n",
    "        Returns:\n",
    "            DataIngestionConfig: Configuration object for data ingestion.\n",
    "        \"\"\"\n",
    "        config = self.config.data_ingestion\n",
    "\n",
    "        # Ensure data ingestion root directory exists\n",
    "        self._create_directories([config.root_dir])\n",
    "\n",
    "        return DataIngestionConfig(\n",
    "            root_dir=config.root_dir,\n",
    "            source_URL=config.source_URL,\n",
    "            unzip_dir=config.unzip_dir\n",
    "        )\n"
   ]
  },
  {
   "cell_type": "code",
   "execution_count": 8,
   "metadata": {},
   "outputs": [],
   "source": [
    "class DataIngestion:\n",
    "    def __init__(self, config: DataIngestionConfig):\n",
    "        self.config = config\n",
    "        self.api = KaggleApi()\n",
    "        self.api.authenticate()\n",
    "        self.metadata_path = os.path.join(self.config.unzip_dir, \"dataset_metadata.json\")\n",
    "\n",
    "    def _record_metadata(self, folder_paths):\n",
    "        \"\"\"\n",
    "        Records metadata about downloaded folders and files.\n",
    "        \"\"\"\n",
    "        metadata = {\n",
    "            \"folders\": {},\n",
    "            \"source_URL\": self.config.source_URL\n",
    "        }\n",
    "\n",
    "        for folder_path in folder_paths:\n",
    "            files = list(Path(folder_path).rglob(\"*.*\"))\n",
    "            metadata[\"folders\"][folder_path] = len(files)\n",
    "\n",
    "        with open(self.metadata_path, \"w\") as f:\n",
    "            json.dump(metadata, f)\n",
    "\n",
    "    def _load_metadata(self):\n",
    "        \"\"\"\n",
    "        Loads existing metadata from the metadata file.\n",
    "        \"\"\"\n",
    "        if not os.path.exists(self.metadata_path):\n",
    "            return None\n",
    "        \n",
    "        with open(self.metadata_path, \"r\") as f:\n",
    "            return json.load(f)\n",
    "\n",
    "    def _check_if_download_needed(self):\n",
    "        \"\"\"\n",
    "        Checks if the dataset needs to be downloaded based on the metadata.\n",
    "        \"\"\"\n",
    "        existing_metadata = self._load_metadata()\n",
    "\n",
    "        if not existing_metadata or existing_metadata[\"source_URL\"] != self.config.source_URL:\n",
    "            return True  \n",
    "\n",
    "        for folder_path, file_count in existing_metadata[\"folders\"].items():\n",
    "            if not os.path.exists(folder_path):\n",
    "                return True  \n",
    "            if len(list(Path(folder_path).rglob(\"*.*\"))) != file_count:\n",
    "                return True  \n",
    "\n",
    "        return False  \n",
    "\n",
    "    def download_dataset(self):\n",
    "        \"\"\"\n",
    "        Downloads the dataset only if it hasn't been downloaded or has been updated.\n",
    "        \"\"\"\n",
    "        if self._check_if_download_needed():\n",
    "            print(\"Downloading dataset...\")\n",
    "            self.api.dataset_download_files(self.config.source_URL, path=self.config.unzip_dir, unzip=True)\n",
    "\n",
    "            folder_paths = [str(folder) for folder in Path(self.config.unzip_dir).glob(\"*\") if folder.is_dir()]\n",
    "            self._record_metadata(folder_paths)\n",
    "            print(\"Dataset downloaded and metadata recorded.\")\n",
    "        else:\n",
    "            print(\"Dataset already up-to-date, no download necessary.\")\n"
   ]
  },
  {
   "cell_type": "code",
   "execution_count": 9,
   "metadata": {},
   "outputs": [
    {
     "name": "stdout",
     "output_type": "stream",
     "text": [
      "[2024-10-29 18:19:36,213: INFO: utils: yaml file: config\\config.yaml loaded successfully]\n",
      "[2024-10-29 18:19:36,216: INFO: utils: yaml file: params.yaml loaded successfully]\n",
      "[2024-10-29 18:19:36,217: INFO: utils: created directory at: artifacts]\n",
      "[2024-10-29 18:19:36,218: INFO: utils: created directory at: artifacts/data_ingestion]\n",
      "Dataset already up-to-date, no download necessary.\n"
     ]
    }
   ],
   "source": [
    "try:\n",
    "    config_manager = ConfigurationManager()   \n",
    "    data_ingestion_config = config_manager.get_data_ingestion_config()   \n",
    "    data_ingestion = DataIngestion(config=data_ingestion_config)  \n",
    "    data_ingestion.download_dataset()\n",
    "except Exception as e:\n",
    "    raise e"
   ]
  },
  {
   "cell_type": "code",
   "execution_count": null,
   "metadata": {},
   "outputs": [],
   "source": []
  }
 ],
 "metadata": {
  "kernelspec": {
   "display_name": "ds-prods",
   "language": "python",
   "name": "python3"
  },
  "language_info": {
   "codemirror_mode": {
    "name": "ipython",
    "version": 3
   },
   "file_extension": ".py",
   "mimetype": "text/x-python",
   "name": "python",
   "nbconvert_exporter": "python",
   "pygments_lexer": "ipython3",
   "version": "3.8.20"
  }
 },
 "nbformat": 4,
 "nbformat_minor": 2
}
